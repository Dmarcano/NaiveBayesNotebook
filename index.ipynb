{
 "cells": [
  {
   "cell_type": "markdown",
   "metadata": {},
   "source": [
    "## An Introduction to Bayesian Modeling \n",
    "\n",
    "One of the most powerful ideas that comes out of using the Bayesian statistics we've learned in class is the idea of Bayesian inference.\n",
    "One of the best ways to describe what Bayesian inference means is through an example.\n",
    "\n",
    "> You are looking for a place out to eat. After finding a place, you want to make sure that you won't waste your time and money so you go and read the reviews. The first review you reads \"This place has amazing food!\". The next set of reviews also have a similiar tone to them reasurring you that the restaurant might be a good choice after all... \n",
    "\n",
    "This way of thinking is exactly what Bayesian inference is. The idea of simply updating your beliefs after considering new evidence.\n",
    "\n",
    "We can try to leverage this way of thinking to create an algorithm that can use Bayesian inference in a wide variety of problems. One of the more straightforward algorithms is called the Naive Bayes Classifier. We're going to look at the inner workings of this algorithms by taking the example of classifying restaurant reviews.\n"
   ]
  },
  {
   "cell_type": "markdown",
   "metadata": {},
   "source": [
    "## Naive Bayes: A Straightforward Introduction to Bayesian Iference for Machine Learning \n",
    "\n",
    "Naive Bayes is what is called a reinforcement learning algorithm. It takes in a sample dataset and uses that data to predict outcomes from data that it has never seen before. In our Example we're going to use a mock dataset that corresponds to positive and negative restaurant reviews. From this small set of data we will then predict wheter new reviews are positive or negative. \n",
    "\n",
    "### Notebook Outline\n",
    "\n",
    "1. Gathering Dataset and Training Naive Bayes\n",
    "2. Testing with basic predictions\n",
    "3. Dealing with never seen words\n",
    "4. Naive Bayes Real World Scenario "
   ]
  },
  {
   "cell_type": "markdown",
   "metadata": {},
   "source": [
    "## Step 1: Gather Dataset and Train The Classifier\n",
    "\n",
    "The most important step in all of this is gathering our dataset. Our results can vary wildly depending on how good our data is. For this example I created a sample dataset to keep things simple. \n",
    "\n"
   ]
  },
  {
   "cell_type": "code",
   "execution_count": null,
   "metadata": {},
   "outputs": [],
   "source": []
  },
  {
   "cell_type": "code",
   "execution_count": 1,
   "metadata": {},
   "outputs": [
    {
     "output_type": "execute_result",
     "data": {
      "text/plain": "                            text  label\n0                simply loved it      1\n1              this food was bad      0\n2               really good food      1\n3                 terrible taste      0\n4                 this food good      1\n5                    loved taste      1\n6                   bad ambiance      0\n7              i loved it so bad      1\n8  i simply loved this good food      1\n9                 it wasn't good      0",
      "text/html": "<div>\n<style scoped>\n    .dataframe tbody tr th:only-of-type {\n        vertical-align: middle;\n    }\n\n    .dataframe tbody tr th {\n        vertical-align: top;\n    }\n\n    .dataframe thead th {\n        text-align: right;\n    }\n</style>\n<table border=\"1\" class=\"dataframe\">\n  <thead>\n    <tr style=\"text-align: right;\">\n      <th></th>\n      <th>text</th>\n      <th>label</th>\n    </tr>\n  </thead>\n  <tbody>\n    <tr>\n      <th>0</th>\n      <td>simply loved it</td>\n      <td>1</td>\n    </tr>\n    <tr>\n      <th>1</th>\n      <td>this food was bad</td>\n      <td>0</td>\n    </tr>\n    <tr>\n      <th>2</th>\n      <td>really good food</td>\n      <td>1</td>\n    </tr>\n    <tr>\n      <th>3</th>\n      <td>terrible taste</td>\n      <td>0</td>\n    </tr>\n    <tr>\n      <th>4</th>\n      <td>this food good</td>\n      <td>1</td>\n    </tr>\n    <tr>\n      <th>5</th>\n      <td>loved taste</td>\n      <td>1</td>\n    </tr>\n    <tr>\n      <th>6</th>\n      <td>bad ambiance</td>\n      <td>0</td>\n    </tr>\n    <tr>\n      <th>7</th>\n      <td>i loved it so bad</td>\n      <td>1</td>\n    </tr>\n    <tr>\n      <th>8</th>\n      <td>i simply loved this good food</td>\n      <td>1</td>\n    </tr>\n    <tr>\n      <th>9</th>\n      <td>it wasn't good</td>\n      <td>0</td>\n    </tr>\n  </tbody>\n</table>\n</div>"
     },
     "metadata": {},
     "execution_count": 1
    }
   ],
   "source": [
    "\"\"\"\n",
    "These lines of code don't matter much and are more for importing libraries such that the notebook isn't cluttered with code\n",
    "\"\"\"\n",
    "import os\n",
    "from matplotlib import pyplot as plt\n",
    "import pandas as pd \n",
    "import numpy as np\n",
    "from ipywidgets import interact, interactive, fixed, interact_manual,interactive_output\n",
    "from IPython.display import display, Markdown\n",
    "import ipywidgets as widgets\n",
    "from naive_bayes import NaiveBayes\n",
    "plt.style.use('ggplot')\n",
    "\n",
    "\n",
    "\"\"\"\n",
    "We are going to make a mock dataset to try to classify restaurant reviews as either positive or negative\n",
    "\"\"\"\n",
    "\n",
    "# this piece of code makes sure the notebook finds the needed files correctly!\n",
    "abspath = os.path.abspath('')\n",
    "os.chdir(abspath)\n",
    "\n",
    "restaurant_data = pd.read_csv(\"restaurant_reviews.csv\")\n",
    "restaurant_data"
   ]
  },
  {
   "cell_type": "markdown",
   "metadata": {},
   "source": [
    "Now we a small dataset to train on. Every row corresponds to a review which has a label for either being a positive or negative review \n",
    "and a set of words that corresponds to the review.\n",
    "\n",
    "Notice how all words are lowercase and punctuation has been cut. This is an important step because we want to keep the data consistent when we train our model and when we predict on new data. Making everything lowercase and cutting punctuation makes it easier to learn from our data without chaning the end results.\n",
    "\n",
    "Now to train we take each time a word shows up for each label and add it to a bag of words that corresponds to the label."
   ]
  },
  {
   "cell_type": "code",
   "execution_count": 2,
   "metadata": {},
   "outputs": [
    {
     "output_type": "execute_result",
     "data": {
      "text/plain": "          good  bad\nsimply       2    0\nloved        4    0\nit           2    1\nreally       1    0\ngood         3    1\nfood         3    1\nthis         2    1\ntaste        1    1\ni            2    0\nso           1    0\nbad          1    2\nterrible     0    1\nambiance     0    1\nwasn't       0    1\nwas          0    1",
      "text/html": "<div>\n<style scoped>\n    .dataframe tbody tr th:only-of-type {\n        vertical-align: middle;\n    }\n\n    .dataframe tbody tr th {\n        vertical-align: top;\n    }\n\n    .dataframe thead th {\n        text-align: right;\n    }\n</style>\n<table border=\"1\" class=\"dataframe\">\n  <thead>\n    <tr style=\"text-align: right;\">\n      <th></th>\n      <th>good</th>\n      <th>bad</th>\n    </tr>\n  </thead>\n  <tbody>\n    <tr>\n      <th>simply</th>\n      <td>2</td>\n      <td>0</td>\n    </tr>\n    <tr>\n      <th>loved</th>\n      <td>4</td>\n      <td>0</td>\n    </tr>\n    <tr>\n      <th>it</th>\n      <td>2</td>\n      <td>1</td>\n    </tr>\n    <tr>\n      <th>really</th>\n      <td>1</td>\n      <td>0</td>\n    </tr>\n    <tr>\n      <th>good</th>\n      <td>3</td>\n      <td>1</td>\n    </tr>\n    <tr>\n      <th>food</th>\n      <td>3</td>\n      <td>1</td>\n    </tr>\n    <tr>\n      <th>this</th>\n      <td>2</td>\n      <td>1</td>\n    </tr>\n    <tr>\n      <th>taste</th>\n      <td>1</td>\n      <td>1</td>\n    </tr>\n    <tr>\n      <th>i</th>\n      <td>2</td>\n      <td>0</td>\n    </tr>\n    <tr>\n      <th>so</th>\n      <td>1</td>\n      <td>0</td>\n    </tr>\n    <tr>\n      <th>bad</th>\n      <td>1</td>\n      <td>2</td>\n    </tr>\n    <tr>\n      <th>terrible</th>\n      <td>0</td>\n      <td>1</td>\n    </tr>\n    <tr>\n      <th>ambiance</th>\n      <td>0</td>\n      <td>1</td>\n    </tr>\n    <tr>\n      <th>wasn't</th>\n      <td>0</td>\n      <td>1</td>\n    </tr>\n    <tr>\n      <th>was</th>\n      <td>0</td>\n      <td>1</td>\n    </tr>\n  </tbody>\n</table>\n</div>"
     },
     "metadata": {},
     "execution_count": 2
    }
   ],
   "source": [
    "naive_bayes_classifier = NaiveBayes()\n",
    "naive_bayes_classifier.train(restaurant_data)\n",
    "\n",
    "naive_bayes_classifier.table()"
   ]
  },
  {
   "cell_type": "markdown",
   "metadata": {},
   "source": [
    "From the table above we can see that our Naive Bayes now has a bag of words. Each column corresponds to a bag with labels 1 and 0 respectively.\n",
    "\n",
    "Each word has the number of times it has occured in our training data. We can now say that our model is trained!"
   ]
  },
  {
   "cell_type": "markdown",
   "metadata": {},
   "source": [
    "## Step 2: Calculating Basic Predictions\n",
    "\n",
    "Now the Naive-Bayes classifier has been trained. It contains a bag of words that we can use to begin classifying \n",
    "sentences into either:\n",
    "\n",
    " **positive (1)** or **negative (0)** reviews.\n",
    "\n",
    " Now lets calculate wether a new review is positive or negative. Assume we ask our model to predict whether the following sentence is a positive or negative review \n",
    "\n",
    " <center><b>Food taste good</b></center>\n",
    "\n",
    " Not the most elegant review but a good example nonetheless. \n",
    "\n",
    "Now our prediction follows the following steps\n",
    "\n",
    "1. Process the data to make usable by the model \n",
    "2. Find the probabilitiy of the sentence belonging to each label\n",
    "3. Return the label from which the probabilitiy is the highest \n",
    "\n",
    "First, we want to process this sentence such that we can use it in our naive bayes model. we split the sentence into its component words and make it a list of words\n",
    "\n",
    "$Food$ $taste$ $good$ $\\rightarrow [food,taste,good]$\n",
    "\n",
    "Now from the list of words we ask the question, given a specific word, what is the probabilitiy that our review is positive or negative?\n",
    "\n",
    "For each individual word, we simply look at the frequency each word pops up in our bag of words. A good visualization of this is making a histogram for the frequency of each word in our training set"
   ]
  },
  {
   "cell_type": "code",
   "execution_count": 3,
   "metadata": {},
   "outputs": [
    {
     "output_type": "display_data",
     "data": {
      "text/plain": "<Figure size 648x216 with 2 Axes>",
      "image/svg+xml": "<?xml version=\"1.0\" encoding=\"utf-8\" standalone=\"no\"?>\n<!DOCTYPE svg PUBLIC \"-//W3C//DTD SVG 1.1//EN\"\n  \"http://www.w3.org/Graphics/SVG/1.1/DTD/svg11.dtd\">\n<!-- Created with matplotlib (https://matplotlib.org/) -->\n<svg height=\"211.099875pt\" version=\"1.1\" viewBox=\"0 0 555.116875 211.099875\" width=\"555.116875pt\" xmlns=\"http://www.w3.org/2000/svg\" xmlns:xlink=\"http://www.w3.org/1999/xlink\">\n <defs>\n  <style type=\"text/css\">\n*{stroke-linecap:butt;stroke-linejoin:round;}\n  </style>\n </defs>\n <g id=\"figure_1\">\n  <g id=\"patch_1\">\n   <path d=\"M 0 211.099875 \nL 555.116875 211.099875 \nL 555.116875 0 \nL 0 0 \nz\n\" style=\"fill:#ffffff;\"/>\n  </g>\n  <g id=\"axes_1\">\n   <g id=\"patch_2\">\n    <path d=\"M 45.716875 187.22175 \nL 273.989602 187.22175 \nL 273.989602 24.14175 \nL 45.716875 24.14175 \nz\n\" style=\"fill:#e5e5e5;\"/>\n   </g>\n   <g id=\"matplotlib.axis_1\">\n    <g id=\"xtick_1\">\n     <g id=\"line2d_1\">\n      <path clip-path=\"url(#p9b8662900d)\" d=\"M 85.738717 187.22175 \nL 85.738717 24.14175 \n\" style=\"fill:none;stroke:#ffffff;stroke-linecap:square;stroke-width:0.8;\"/>\n     </g>\n     <g id=\"line2d_2\">\n      <defs>\n       <path d=\"M 0 0 \nL 0 3.5 \n\" id=\"m36515edda9\" style=\"stroke:#555555;stroke-width:0.8;\"/>\n      </defs>\n      <g>\n       <use style=\"fill:#555555;stroke:#555555;stroke-width:0.8;\" x=\"85.738717\" xlink:href=\"#m36515edda9\" y=\"187.22175\"/>\n      </g>\n     </g>\n     <g id=\"text_1\">\n      <!-- good -->\n      <defs>\n       <path d=\"M 45.40625 27.984375 \nQ 45.40625 37.75 41.375 43.109375 \nQ 37.359375 48.484375 30.078125 48.484375 \nQ 22.859375 48.484375 18.828125 43.109375 \nQ 14.796875 37.75 14.796875 27.984375 \nQ 14.796875 18.265625 18.828125 12.890625 \nQ 22.859375 7.515625 30.078125 7.515625 \nQ 37.359375 7.515625 41.375 12.890625 \nQ 45.40625 18.265625 45.40625 27.984375 \nz\nM 54.390625 6.78125 \nQ 54.390625 -7.171875 48.1875 -13.984375 \nQ 42 -20.796875 29.203125 -20.796875 \nQ 24.46875 -20.796875 20.265625 -20.09375 \nQ 16.0625 -19.390625 12.109375 -17.921875 \nL 12.109375 -9.1875 \nQ 16.0625 -11.328125 19.921875 -12.34375 \nQ 23.78125 -13.375 27.78125 -13.375 \nQ 36.625 -13.375 41.015625 -8.765625 \nQ 45.40625 -4.15625 45.40625 5.171875 \nL 45.40625 9.625 \nQ 42.625 4.78125 38.28125 2.390625 \nQ 33.9375 0 27.875 0 \nQ 17.828125 0 11.671875 7.65625 \nQ 5.515625 15.328125 5.515625 27.984375 \nQ 5.515625 40.671875 11.671875 48.328125 \nQ 17.828125 56 27.875 56 \nQ 33.9375 56 38.28125 53.609375 \nQ 42.625 51.21875 45.40625 46.390625 \nL 45.40625 54.6875 \nL 54.390625 54.6875 \nz\n\" id=\"DejaVuSans-103\"/>\n       <path d=\"M 30.609375 48.390625 \nQ 23.390625 48.390625 19.1875 42.75 \nQ 14.984375 37.109375 14.984375 27.296875 \nQ 14.984375 17.484375 19.15625 11.84375 \nQ 23.34375 6.203125 30.609375 6.203125 \nQ 37.796875 6.203125 41.984375 11.859375 \nQ 46.1875 17.53125 46.1875 27.296875 \nQ 46.1875 37.015625 41.984375 42.703125 \nQ 37.796875 48.390625 30.609375 48.390625 \nz\nM 30.609375 56 \nQ 42.328125 56 49.015625 48.375 \nQ 55.71875 40.765625 55.71875 27.296875 \nQ 55.71875 13.875 49.015625 6.21875 \nQ 42.328125 -1.421875 30.609375 -1.421875 \nQ 18.84375 -1.421875 12.171875 6.21875 \nQ 5.515625 13.875 5.515625 27.296875 \nQ 5.515625 40.765625 12.171875 48.375 \nQ 18.84375 56 30.609375 56 \nz\n\" id=\"DejaVuSans-111\"/>\n       <path d=\"M 45.40625 46.390625 \nL 45.40625 75.984375 \nL 54.390625 75.984375 \nL 54.390625 0 \nL 45.40625 0 \nL 45.40625 8.203125 \nQ 42.578125 3.328125 38.25 0.953125 \nQ 33.9375 -1.421875 27.875 -1.421875 \nQ 17.96875 -1.421875 11.734375 6.484375 \nQ 5.515625 14.40625 5.515625 27.296875 \nQ 5.515625 40.1875 11.734375 48.09375 \nQ 17.96875 56 27.875 56 \nQ 33.9375 56 38.25 53.625 \nQ 42.578125 51.265625 45.40625 46.390625 \nz\nM 14.796875 27.296875 \nQ 14.796875 17.390625 18.875 11.75 \nQ 22.953125 6.109375 30.078125 6.109375 \nQ 37.203125 6.109375 41.296875 11.75 \nQ 45.40625 17.390625 45.40625 27.296875 \nQ 45.40625 37.203125 41.296875 42.84375 \nQ 37.203125 48.484375 30.078125 48.484375 \nQ 22.953125 48.484375 18.875 42.84375 \nQ 14.796875 37.203125 14.796875 27.296875 \nz\n\" id=\"DejaVuSans-100\"/>\n      </defs>\n      <g style=\"fill:#555555;\" transform=\"translate(73.271529 201.820188)scale(0.1 -0.1)\">\n       <use xlink:href=\"#DejaVuSans-103\"/>\n       <use x=\"63.476562\" xlink:href=\"#DejaVuSans-111\"/>\n       <use x=\"124.658203\" xlink:href=\"#DejaVuSans-111\"/>\n       <use x=\"185.839844\" xlink:href=\"#DejaVuSans-100\"/>\n      </g>\n     </g>\n    </g>\n    <g id=\"xtick_2\">\n     <g id=\"line2d_3\">\n      <path clip-path=\"url(#p9b8662900d)\" d=\"M 159.853239 187.22175 \nL 159.853239 24.14175 \n\" style=\"fill:none;stroke:#ffffff;stroke-linecap:square;stroke-width:0.8;\"/>\n     </g>\n     <g id=\"line2d_4\">\n      <g>\n       <use style=\"fill:#555555;stroke:#555555;stroke-width:0.8;\" x=\"159.853239\" xlink:href=\"#m36515edda9\" y=\"187.22175\"/>\n      </g>\n     </g>\n     <g id=\"text_2\">\n      <!-- food -->\n      <defs>\n       <path d=\"M 37.109375 75.984375 \nL 37.109375 68.5 \nL 28.515625 68.5 \nQ 23.6875 68.5 21.796875 66.546875 \nQ 19.921875 64.59375 19.921875 59.515625 \nL 19.921875 54.6875 \nL 34.71875 54.6875 \nL 34.71875 47.703125 \nL 19.921875 47.703125 \nL 19.921875 0 \nL 10.890625 0 \nL 10.890625 47.703125 \nL 2.296875 47.703125 \nL 2.296875 54.6875 \nL 10.890625 54.6875 \nL 10.890625 58.5 \nQ 10.890625 67.625 15.140625 71.796875 \nQ 19.390625 75.984375 28.609375 75.984375 \nz\n\" id=\"DejaVuSans-102\"/>\n      </defs>\n      <g style=\"fill:#555555;\" transform=\"translate(148.800114 201.820188)scale(0.1 -0.1)\">\n       <use xlink:href=\"#DejaVuSans-102\"/>\n       <use x=\"35.205078\" xlink:href=\"#DejaVuSans-111\"/>\n       <use x=\"96.386719\" xlink:href=\"#DejaVuSans-111\"/>\n       <use x=\"157.568359\" xlink:href=\"#DejaVuSans-100\"/>\n      </g>\n     </g>\n    </g>\n    <g id=\"xtick_3\">\n     <g id=\"line2d_5\">\n      <path clip-path=\"url(#p9b8662900d)\" d=\"M 233.96776 187.22175 \nL 233.96776 24.14175 \n\" style=\"fill:none;stroke:#ffffff;stroke-linecap:square;stroke-width:0.8;\"/>\n     </g>\n     <g id=\"line2d_6\">\n      <g>\n       <use style=\"fill:#555555;stroke:#555555;stroke-width:0.8;\" x=\"233.96776\" xlink:href=\"#m36515edda9\" y=\"187.22175\"/>\n      </g>\n     </g>\n     <g id=\"text_3\">\n      <!-- taste -->\n      <defs>\n       <path d=\"M 18.3125 70.21875 \nL 18.3125 54.6875 \nL 36.8125 54.6875 \nL 36.8125 47.703125 \nL 18.3125 47.703125 \nL 18.3125 18.015625 \nQ 18.3125 11.328125 20.140625 9.421875 \nQ 21.96875 7.515625 27.59375 7.515625 \nL 36.8125 7.515625 \nL 36.8125 0 \nL 27.59375 0 \nQ 17.1875 0 13.234375 3.875 \nQ 9.28125 7.765625 9.28125 18.015625 \nL 9.28125 47.703125 \nL 2.6875 47.703125 \nL 2.6875 54.6875 \nL 9.28125 54.6875 \nL 9.28125 70.21875 \nz\n\" id=\"DejaVuSans-116\"/>\n       <path d=\"M 34.28125 27.484375 \nQ 23.390625 27.484375 19.1875 25 \nQ 14.984375 22.515625 14.984375 16.5 \nQ 14.984375 11.71875 18.140625 8.90625 \nQ 21.296875 6.109375 26.703125 6.109375 \nQ 34.1875 6.109375 38.703125 11.40625 \nQ 43.21875 16.703125 43.21875 25.484375 \nL 43.21875 27.484375 \nz\nM 52.203125 31.203125 \nL 52.203125 0 \nL 43.21875 0 \nL 43.21875 8.296875 \nQ 40.140625 3.328125 35.546875 0.953125 \nQ 30.953125 -1.421875 24.3125 -1.421875 \nQ 15.921875 -1.421875 10.953125 3.296875 \nQ 6 8.015625 6 15.921875 \nQ 6 25.140625 12.171875 29.828125 \nQ 18.359375 34.515625 30.609375 34.515625 \nL 43.21875 34.515625 \nL 43.21875 35.40625 \nQ 43.21875 41.609375 39.140625 45 \nQ 35.0625 48.390625 27.6875 48.390625 \nQ 23 48.390625 18.546875 47.265625 \nQ 14.109375 46.140625 10.015625 43.890625 \nL 10.015625 52.203125 \nQ 14.9375 54.109375 19.578125 55.046875 \nQ 24.21875 56 28.609375 56 \nQ 40.484375 56 46.34375 49.84375 \nQ 52.203125 43.703125 52.203125 31.203125 \nz\n\" id=\"DejaVuSans-97\"/>\n       <path d=\"M 44.28125 53.078125 \nL 44.28125 44.578125 \nQ 40.484375 46.53125 36.375 47.5 \nQ 32.28125 48.484375 27.875 48.484375 \nQ 21.1875 48.484375 17.84375 46.4375 \nQ 14.5 44.390625 14.5 40.28125 \nQ 14.5 37.15625 16.890625 35.375 \nQ 19.28125 33.59375 26.515625 31.984375 \nL 29.59375 31.296875 \nQ 39.15625 29.25 43.1875 25.515625 \nQ 47.21875 21.78125 47.21875 15.09375 \nQ 47.21875 7.46875 41.1875 3.015625 \nQ 35.15625 -1.421875 24.609375 -1.421875 \nQ 20.21875 -1.421875 15.453125 -0.5625 \nQ 10.6875 0.296875 5.421875 2 \nL 5.421875 11.28125 \nQ 10.40625 8.6875 15.234375 7.390625 \nQ 20.0625 6.109375 24.8125 6.109375 \nQ 31.15625 6.109375 34.5625 8.28125 \nQ 37.984375 10.453125 37.984375 14.40625 \nQ 37.984375 18.0625 35.515625 20.015625 \nQ 33.0625 21.96875 24.703125 23.78125 \nL 21.578125 24.515625 \nQ 13.234375 26.265625 9.515625 29.90625 \nQ 5.8125 33.546875 5.8125 39.890625 \nQ 5.8125 47.609375 11.28125 51.796875 \nQ 16.75 56 26.8125 56 \nQ 31.78125 56 36.171875 55.265625 \nQ 40.578125 54.546875 44.28125 53.078125 \nz\n\" id=\"DejaVuSans-115\"/>\n       <path d=\"M 56.203125 29.59375 \nL 56.203125 25.203125 \nL 14.890625 25.203125 \nQ 15.484375 15.921875 20.484375 11.0625 \nQ 25.484375 6.203125 34.421875 6.203125 \nQ 39.59375 6.203125 44.453125 7.46875 \nQ 49.3125 8.734375 54.109375 11.28125 \nL 54.109375 2.78125 \nQ 49.265625 0.734375 44.1875 -0.34375 \nQ 39.109375 -1.421875 33.890625 -1.421875 \nQ 20.796875 -1.421875 13.15625 6.1875 \nQ 5.515625 13.8125 5.515625 26.8125 \nQ 5.515625 40.234375 12.765625 48.109375 \nQ 20.015625 56 32.328125 56 \nQ 43.359375 56 49.78125 48.890625 \nQ 56.203125 41.796875 56.203125 29.59375 \nz\nM 47.21875 32.234375 \nQ 47.125 39.59375 43.09375 43.984375 \nQ 39.0625 48.390625 32.421875 48.390625 \nQ 24.90625 48.390625 20.390625 44.140625 \nQ 15.875 39.890625 15.1875 32.171875 \nz\n\" id=\"DejaVuSans-101\"/>\n      </defs>\n      <g style=\"fill:#555555;\" transform=\"translate(221.302135 201.820188)scale(0.1 -0.1)\">\n       <use xlink:href=\"#DejaVuSans-116\"/>\n       <use x=\"39.208984\" xlink:href=\"#DejaVuSans-97\"/>\n       <use x=\"100.488281\" xlink:href=\"#DejaVuSans-115\"/>\n       <use x=\"152.587891\" xlink:href=\"#DejaVuSans-116\"/>\n       <use x=\"191.796875\" xlink:href=\"#DejaVuSans-101\"/>\n      </g>\n     </g>\n    </g>\n   </g>\n   <g id=\"matplotlib.axis_2\">\n    <g id=\"ytick_1\">\n     <g id=\"line2d_7\">\n      <path clip-path=\"url(#p9b8662900d)\" d=\"M 45.716875 187.22175 \nL 273.989602 187.22175 \n\" style=\"fill:none;stroke:#ffffff;stroke-linecap:square;stroke-width:0.8;\"/>\n     </g>\n     <g id=\"line2d_8\">\n      <defs>\n       <path d=\"M 0 0 \nL -3.5 0 \n\" id=\"m1f1d5da146\" style=\"stroke:#555555;stroke-width:0.8;\"/>\n      </defs>\n      <g>\n       <use style=\"fill:#555555;stroke:#555555;stroke-width:0.8;\" x=\"45.716875\" xlink:href=\"#m1f1d5da146\" y=\"187.22175\"/>\n      </g>\n     </g>\n     <g id=\"text_4\">\n      <!-- 0.0 -->\n      <defs>\n       <path d=\"M 31.78125 66.40625 \nQ 24.171875 66.40625 20.328125 58.90625 \nQ 16.5 51.421875 16.5 36.375 \nQ 16.5 21.390625 20.328125 13.890625 \nQ 24.171875 6.390625 31.78125 6.390625 \nQ 39.453125 6.390625 43.28125 13.890625 \nQ 47.125 21.390625 47.125 36.375 \nQ 47.125 51.421875 43.28125 58.90625 \nQ 39.453125 66.40625 31.78125 66.40625 \nz\nM 31.78125 74.21875 \nQ 44.046875 74.21875 50.515625 64.515625 \nQ 56.984375 54.828125 56.984375 36.375 \nQ 56.984375 17.96875 50.515625 8.265625 \nQ 44.046875 -1.421875 31.78125 -1.421875 \nQ 19.53125 -1.421875 13.0625 8.265625 \nQ 6.59375 17.96875 6.59375 36.375 \nQ 6.59375 54.828125 13.0625 64.515625 \nQ 19.53125 74.21875 31.78125 74.21875 \nz\n\" id=\"DejaVuSans-48\"/>\n       <path d=\"M 10.6875 12.40625 \nL 21 12.40625 \nL 21 0 \nL 10.6875 0 \nz\n\" id=\"DejaVuSans-46\"/>\n      </defs>\n      <g style=\"fill:#555555;\" transform=\"translate(22.81375 191.020969)scale(0.1 -0.1)\">\n       <use xlink:href=\"#DejaVuSans-48\"/>\n       <use x=\"63.623047\" xlink:href=\"#DejaVuSans-46\"/>\n       <use x=\"95.410156\" xlink:href=\"#DejaVuSans-48\"/>\n      </g>\n     </g>\n    </g>\n    <g id=\"ytick_2\">\n     <g id=\"line2d_9\">\n      <path clip-path=\"url(#p9b8662900d)\" d=\"M 45.716875 161.336036 \nL 273.989602 161.336036 \n\" style=\"fill:none;stroke:#ffffff;stroke-linecap:square;stroke-width:0.8;\"/>\n     </g>\n     <g id=\"line2d_10\">\n      <g>\n       <use style=\"fill:#555555;stroke:#555555;stroke-width:0.8;\" x=\"45.716875\" xlink:href=\"#m1f1d5da146\" y=\"161.336036\"/>\n      </g>\n     </g>\n     <g id=\"text_5\">\n      <!-- 0.5 -->\n      <defs>\n       <path d=\"M 10.796875 72.90625 \nL 49.515625 72.90625 \nL 49.515625 64.59375 \nL 19.828125 64.59375 \nL 19.828125 46.734375 \nQ 21.96875 47.46875 24.109375 47.828125 \nQ 26.265625 48.1875 28.421875 48.1875 \nQ 40.625 48.1875 47.75 41.5 \nQ 54.890625 34.8125 54.890625 23.390625 \nQ 54.890625 11.625 47.5625 5.09375 \nQ 40.234375 -1.421875 26.90625 -1.421875 \nQ 22.3125 -1.421875 17.546875 -0.640625 \nQ 12.796875 0.140625 7.71875 1.703125 \nL 7.71875 11.625 \nQ 12.109375 9.234375 16.796875 8.0625 \nQ 21.484375 6.890625 26.703125 6.890625 \nQ 35.15625 6.890625 40.078125 11.328125 \nQ 45.015625 15.765625 45.015625 23.390625 \nQ 45.015625 31 40.078125 35.4375 \nQ 35.15625 39.890625 26.703125 39.890625 \nQ 22.75 39.890625 18.8125 39.015625 \nQ 14.890625 38.140625 10.796875 36.28125 \nz\n\" id=\"DejaVuSans-53\"/>\n      </defs>\n      <g style=\"fill:#555555;\" transform=\"translate(22.81375 165.135254)scale(0.1 -0.1)\">\n       <use xlink:href=\"#DejaVuSans-48\"/>\n       <use x=\"63.623047\" xlink:href=\"#DejaVuSans-46\"/>\n       <use x=\"95.410156\" xlink:href=\"#DejaVuSans-53\"/>\n      </g>\n     </g>\n    </g>\n    <g id=\"ytick_3\">\n     <g id=\"line2d_11\">\n      <path clip-path=\"url(#p9b8662900d)\" d=\"M 45.716875 135.450321 \nL 273.989602 135.450321 \n\" style=\"fill:none;stroke:#ffffff;stroke-linecap:square;stroke-width:0.8;\"/>\n     </g>\n     <g id=\"line2d_12\">\n      <g>\n       <use style=\"fill:#555555;stroke:#555555;stroke-width:0.8;\" x=\"45.716875\" xlink:href=\"#m1f1d5da146\" y=\"135.450321\"/>\n      </g>\n     </g>\n     <g id=\"text_6\">\n      <!-- 1.0 -->\n      <defs>\n       <path d=\"M 12.40625 8.296875 \nL 28.515625 8.296875 \nL 28.515625 63.921875 \nL 10.984375 60.40625 \nL 10.984375 69.390625 \nL 28.421875 72.90625 \nL 38.28125 72.90625 \nL 38.28125 8.296875 \nL 54.390625 8.296875 \nL 54.390625 0 \nL 12.40625 0 \nz\n\" id=\"DejaVuSans-49\"/>\n      </defs>\n      <g style=\"fill:#555555;\" transform=\"translate(22.81375 139.24954)scale(0.1 -0.1)\">\n       <use xlink:href=\"#DejaVuSans-49\"/>\n       <use x=\"63.623047\" xlink:href=\"#DejaVuSans-46\"/>\n       <use x=\"95.410156\" xlink:href=\"#DejaVuSans-48\"/>\n      </g>\n     </g>\n    </g>\n    <g id=\"ytick_4\">\n     <g id=\"line2d_13\">\n      <path clip-path=\"url(#p9b8662900d)\" d=\"M 45.716875 109.564607 \nL 273.989602 109.564607 \n\" style=\"fill:none;stroke:#ffffff;stroke-linecap:square;stroke-width:0.8;\"/>\n     </g>\n     <g id=\"line2d_14\">\n      <g>\n       <use style=\"fill:#555555;stroke:#555555;stroke-width:0.8;\" x=\"45.716875\" xlink:href=\"#m1f1d5da146\" y=\"109.564607\"/>\n      </g>\n     </g>\n     <g id=\"text_7\">\n      <!-- 1.5 -->\n      <g style=\"fill:#555555;\" transform=\"translate(22.81375 113.363826)scale(0.1 -0.1)\">\n       <use xlink:href=\"#DejaVuSans-49\"/>\n       <use x=\"63.623047\" xlink:href=\"#DejaVuSans-46\"/>\n       <use x=\"95.410156\" xlink:href=\"#DejaVuSans-53\"/>\n      </g>\n     </g>\n    </g>\n    <g id=\"ytick_5\">\n     <g id=\"line2d_15\">\n      <path clip-path=\"url(#p9b8662900d)\" d=\"M 45.716875 83.678893 \nL 273.989602 83.678893 \n\" style=\"fill:none;stroke:#ffffff;stroke-linecap:square;stroke-width:0.8;\"/>\n     </g>\n     <g id=\"line2d_16\">\n      <g>\n       <use style=\"fill:#555555;stroke:#555555;stroke-width:0.8;\" x=\"45.716875\" xlink:href=\"#m1f1d5da146\" y=\"83.678893\"/>\n      </g>\n     </g>\n     <g id=\"text_8\">\n      <!-- 2.0 -->\n      <defs>\n       <path d=\"M 19.1875 8.296875 \nL 53.609375 8.296875 \nL 53.609375 0 \nL 7.328125 0 \nL 7.328125 8.296875 \nQ 12.9375 14.109375 22.625 23.890625 \nQ 32.328125 33.6875 34.8125 36.53125 \nQ 39.546875 41.84375 41.421875 45.53125 \nQ 43.3125 49.21875 43.3125 52.78125 \nQ 43.3125 58.59375 39.234375 62.25 \nQ 35.15625 65.921875 28.609375 65.921875 \nQ 23.96875 65.921875 18.8125 64.3125 \nQ 13.671875 62.703125 7.8125 59.421875 \nL 7.8125 69.390625 \nQ 13.765625 71.78125 18.9375 73 \nQ 24.125 74.21875 28.421875 74.21875 \nQ 39.75 74.21875 46.484375 68.546875 \nQ 53.21875 62.890625 53.21875 53.421875 \nQ 53.21875 48.921875 51.53125 44.890625 \nQ 49.859375 40.875 45.40625 35.40625 \nQ 44.1875 33.984375 37.640625 27.21875 \nQ 31.109375 20.453125 19.1875 8.296875 \nz\n\" id=\"DejaVuSans-50\"/>\n      </defs>\n      <g style=\"fill:#555555;\" transform=\"translate(22.81375 87.478112)scale(0.1 -0.1)\">\n       <use xlink:href=\"#DejaVuSans-50\"/>\n       <use x=\"63.623047\" xlink:href=\"#DejaVuSans-46\"/>\n       <use x=\"95.410156\" xlink:href=\"#DejaVuSans-48\"/>\n      </g>\n     </g>\n    </g>\n    <g id=\"ytick_6\">\n     <g id=\"line2d_17\">\n      <path clip-path=\"url(#p9b8662900d)\" d=\"M 45.716875 57.793179 \nL 273.989602 57.793179 \n\" style=\"fill:none;stroke:#ffffff;stroke-linecap:square;stroke-width:0.8;\"/>\n     </g>\n     <g id=\"line2d_18\">\n      <g>\n       <use style=\"fill:#555555;stroke:#555555;stroke-width:0.8;\" x=\"45.716875\" xlink:href=\"#m1f1d5da146\" y=\"57.793179\"/>\n      </g>\n     </g>\n     <g id=\"text_9\">\n      <!-- 2.5 -->\n      <g style=\"fill:#555555;\" transform=\"translate(22.81375 61.592397)scale(0.1 -0.1)\">\n       <use xlink:href=\"#DejaVuSans-50\"/>\n       <use x=\"63.623047\" xlink:href=\"#DejaVuSans-46\"/>\n       <use x=\"95.410156\" xlink:href=\"#DejaVuSans-53\"/>\n      </g>\n     </g>\n    </g>\n    <g id=\"ytick_7\">\n     <g id=\"line2d_19\">\n      <path clip-path=\"url(#p9b8662900d)\" d=\"M 45.716875 31.907464 \nL 273.989602 31.907464 \n\" style=\"fill:none;stroke:#ffffff;stroke-linecap:square;stroke-width:0.8;\"/>\n     </g>\n     <g id=\"line2d_20\">\n      <g>\n       <use style=\"fill:#555555;stroke:#555555;stroke-width:0.8;\" x=\"45.716875\" xlink:href=\"#m1f1d5da146\" y=\"31.907464\"/>\n      </g>\n     </g>\n     <g id=\"text_10\">\n      <!-- 3.0 -->\n      <defs>\n       <path d=\"M 40.578125 39.3125 \nQ 47.65625 37.796875 51.625 33 \nQ 55.609375 28.21875 55.609375 21.1875 \nQ 55.609375 10.40625 48.1875 4.484375 \nQ 40.765625 -1.421875 27.09375 -1.421875 \nQ 22.515625 -1.421875 17.65625 -0.515625 \nQ 12.796875 0.390625 7.625 2.203125 \nL 7.625 11.71875 \nQ 11.71875 9.328125 16.59375 8.109375 \nQ 21.484375 6.890625 26.8125 6.890625 \nQ 36.078125 6.890625 40.9375 10.546875 \nQ 45.796875 14.203125 45.796875 21.1875 \nQ 45.796875 27.640625 41.28125 31.265625 \nQ 36.765625 34.90625 28.71875 34.90625 \nL 20.21875 34.90625 \nL 20.21875 43.015625 \nL 29.109375 43.015625 \nQ 36.375 43.015625 40.234375 45.921875 \nQ 44.09375 48.828125 44.09375 54.296875 \nQ 44.09375 59.90625 40.109375 62.90625 \nQ 36.140625 65.921875 28.71875 65.921875 \nQ 24.65625 65.921875 20.015625 65.03125 \nQ 15.375 64.15625 9.8125 62.3125 \nL 9.8125 71.09375 \nQ 15.4375 72.65625 20.34375 73.4375 \nQ 25.25 74.21875 29.59375 74.21875 \nQ 40.828125 74.21875 47.359375 69.109375 \nQ 53.90625 64.015625 53.90625 55.328125 \nQ 53.90625 49.265625 50.4375 45.09375 \nQ 46.96875 40.921875 40.578125 39.3125 \nz\n\" id=\"DejaVuSans-51\"/>\n      </defs>\n      <g style=\"fill:#555555;\" transform=\"translate(22.81375 35.706683)scale(0.1 -0.1)\">\n       <use xlink:href=\"#DejaVuSans-51\"/>\n       <use x=\"63.623047\" xlink:href=\"#DejaVuSans-46\"/>\n       <use x=\"95.410156\" xlink:href=\"#DejaVuSans-48\"/>\n      </g>\n     </g>\n    </g>\n    <g id=\"text_11\">\n     <!-- freq -->\n     <defs>\n      <path d=\"M 41.109375 46.296875 \nQ 39.59375 47.171875 37.8125 47.578125 \nQ 36.03125 48 33.890625 48 \nQ 26.265625 48 22.1875 43.046875 \nQ 18.109375 38.09375 18.109375 28.8125 \nL 18.109375 0 \nL 9.078125 0 \nL 9.078125 54.6875 \nL 18.109375 54.6875 \nL 18.109375 46.1875 \nQ 20.953125 51.171875 25.484375 53.578125 \nQ 30.03125 56 36.53125 56 \nQ 37.453125 56 38.578125 55.875 \nQ 39.703125 55.765625 41.0625 55.515625 \nz\n\" id=\"DejaVuSans-114\"/>\n      <path d=\"M 14.796875 27.296875 \nQ 14.796875 17.390625 18.875 11.75 \nQ 22.953125 6.109375 30.078125 6.109375 \nQ 37.203125 6.109375 41.296875 11.75 \nQ 45.40625 17.390625 45.40625 27.296875 \nQ 45.40625 37.203125 41.296875 42.84375 \nQ 37.203125 48.484375 30.078125 48.484375 \nQ 22.953125 48.484375 18.875 42.84375 \nQ 14.796875 37.203125 14.796875 27.296875 \nz\nM 45.40625 8.203125 \nQ 42.578125 3.328125 38.25 0.953125 \nQ 33.9375 -1.421875 27.875 -1.421875 \nQ 17.96875 -1.421875 11.734375 6.484375 \nQ 5.515625 14.40625 5.515625 27.296875 \nQ 5.515625 40.1875 11.734375 48.09375 \nQ 17.96875 56 27.875 56 \nQ 33.9375 56 38.25 53.625 \nQ 42.578125 51.265625 45.40625 46.390625 \nL 45.40625 54.6875 \nL 54.390625 54.6875 \nL 54.390625 -20.796875 \nL 45.40625 -20.796875 \nz\n\" id=\"DejaVuSans-113\"/>\n     </defs>\n     <g style=\"fill:#555555;\" transform=\"translate(16.318125 117.626437)rotate(-90)scale(0.12 -0.12)\">\n      <use xlink:href=\"#DejaVuSans-102\"/>\n      <use x=\"35.205078\" xlink:href=\"#DejaVuSans-114\"/>\n      <use x=\"74.068359\" xlink:href=\"#DejaVuSans-101\"/>\n      <use x=\"135.591797\" xlink:href=\"#DejaVuSans-113\"/>\n     </g>\n    </g>\n   </g>\n   <g id=\"patch_3\">\n    <path clip-path=\"url(#p9b8662900d)\" d=\"M 56.092908 187.22175 \nL 115.384526 187.22175 \nL 115.384526 31.907464 \nL 56.092908 31.907464 \nz\n\" style=\"fill:#00008b;\"/>\n   </g>\n   <g id=\"patch_4\">\n    <path clip-path=\"url(#p9b8662900d)\" d=\"M 130.20743 187.22175 \nL 189.499047 187.22175 \nL 189.499047 31.907464 \nL 130.20743 31.907464 \nz\n\" style=\"fill:#00008b;\"/>\n   </g>\n   <g id=\"patch_5\">\n    <path clip-path=\"url(#p9b8662900d)\" d=\"M 204.321952 187.22175 \nL 263.613569 187.22175 \nL 263.613569 135.450321 \nL 204.321952 135.450321 \nz\n\" style=\"fill:#00008b;\"/>\n   </g>\n   <g id=\"patch_6\">\n    <path d=\"M 45.716875 187.22175 \nL 45.716875 24.14175 \n\" style=\"fill:none;stroke:#ffffff;stroke-linecap:square;stroke-linejoin:miter;\"/>\n   </g>\n   <g id=\"patch_7\">\n    <path d=\"M 273.989602 187.22175 \nL 273.989602 24.14175 \n\" style=\"fill:none;stroke:#ffffff;stroke-linecap:square;stroke-linejoin:miter;\"/>\n   </g>\n   <g id=\"patch_8\">\n    <path d=\"M 45.716875 187.22175 \nL 273.989602 187.22175 \n\" style=\"fill:none;stroke:#ffffff;stroke-linecap:square;stroke-linejoin:miter;\"/>\n   </g>\n   <g id=\"patch_9\">\n    <path d=\"M 45.716875 24.14175 \nL 273.989602 24.14175 \n\" style=\"fill:none;stroke:#ffffff;stroke-linecap:square;stroke-linejoin:miter;\"/>\n   </g>\n   <g id=\"text_12\">\n    <!-- Words in Success -->\n    <defs>\n     <path d=\"M 3.328125 72.90625 \nL 13.28125 72.90625 \nL 28.609375 11.28125 \nL 43.890625 72.90625 \nL 54.984375 72.90625 \nL 70.3125 11.28125 \nL 85.59375 72.90625 \nL 95.609375 72.90625 \nL 77.296875 0 \nL 64.890625 0 \nL 49.515625 63.28125 \nL 33.984375 0 \nL 21.578125 0 \nz\n\" id=\"DejaVuSans-87\"/>\n     <path id=\"DejaVuSans-32\"/>\n     <path d=\"M 9.421875 54.6875 \nL 18.40625 54.6875 \nL 18.40625 0 \nL 9.421875 0 \nz\nM 9.421875 75.984375 \nL 18.40625 75.984375 \nL 18.40625 64.59375 \nL 9.421875 64.59375 \nz\n\" id=\"DejaVuSans-105\"/>\n     <path d=\"M 54.890625 33.015625 \nL 54.890625 0 \nL 45.90625 0 \nL 45.90625 32.71875 \nQ 45.90625 40.484375 42.875 44.328125 \nQ 39.84375 48.1875 33.796875 48.1875 \nQ 26.515625 48.1875 22.3125 43.546875 \nQ 18.109375 38.921875 18.109375 30.90625 \nL 18.109375 0 \nL 9.078125 0 \nL 9.078125 54.6875 \nL 18.109375 54.6875 \nL 18.109375 46.1875 \nQ 21.34375 51.125 25.703125 53.5625 \nQ 30.078125 56 35.796875 56 \nQ 45.21875 56 50.046875 50.171875 \nQ 54.890625 44.34375 54.890625 33.015625 \nz\n\" id=\"DejaVuSans-110\"/>\n     <path d=\"M 53.515625 70.515625 \nL 53.515625 60.890625 \nQ 47.90625 63.578125 42.921875 64.890625 \nQ 37.9375 66.21875 33.296875 66.21875 \nQ 25.25 66.21875 20.875 63.09375 \nQ 16.5 59.96875 16.5 54.203125 \nQ 16.5 49.359375 19.40625 46.890625 \nQ 22.3125 44.4375 30.421875 42.921875 \nL 36.375 41.703125 \nQ 47.40625 39.59375 52.65625 34.296875 \nQ 57.90625 29 57.90625 20.125 \nQ 57.90625 9.515625 50.796875 4.046875 \nQ 43.703125 -1.421875 29.984375 -1.421875 \nQ 24.8125 -1.421875 18.96875 -0.25 \nQ 13.140625 0.921875 6.890625 3.21875 \nL 6.890625 13.375 \nQ 12.890625 10.015625 18.65625 8.296875 \nQ 24.421875 6.59375 29.984375 6.59375 \nQ 38.421875 6.59375 43.015625 9.90625 \nQ 47.609375 13.234375 47.609375 19.390625 \nQ 47.609375 24.75 44.3125 27.78125 \nQ 41.015625 30.8125 33.5 32.328125 \nL 27.484375 33.5 \nQ 16.453125 35.6875 11.515625 40.375 \nQ 6.59375 45.0625 6.59375 53.421875 \nQ 6.59375 63.09375 13.40625 68.65625 \nQ 20.21875 74.21875 32.171875 74.21875 \nQ 37.3125 74.21875 42.625 73.28125 \nQ 47.953125 72.359375 53.515625 70.515625 \nz\n\" id=\"DejaVuSans-83\"/>\n     <path d=\"M 8.5 21.578125 \nL 8.5 54.6875 \nL 17.484375 54.6875 \nL 17.484375 21.921875 \nQ 17.484375 14.15625 20.5 10.265625 \nQ 23.53125 6.390625 29.59375 6.390625 \nQ 36.859375 6.390625 41.078125 11.03125 \nQ 45.3125 15.671875 45.3125 23.6875 \nL 45.3125 54.6875 \nL 54.296875 54.6875 \nL 54.296875 0 \nL 45.3125 0 \nL 45.3125 8.40625 \nQ 42.046875 3.421875 37.71875 1 \nQ 33.40625 -1.421875 27.6875 -1.421875 \nQ 18.265625 -1.421875 13.375 4.4375 \nQ 8.5 10.296875 8.5 21.578125 \nz\nM 31.109375 56 \nz\n\" id=\"DejaVuSans-117\"/>\n     <path d=\"M 48.78125 52.59375 \nL 48.78125 44.1875 \nQ 44.96875 46.296875 41.140625 47.34375 \nQ 37.3125 48.390625 33.40625 48.390625 \nQ 24.65625 48.390625 19.8125 42.84375 \nQ 14.984375 37.3125 14.984375 27.296875 \nQ 14.984375 17.28125 19.8125 11.734375 \nQ 24.65625 6.203125 33.40625 6.203125 \nQ 37.3125 6.203125 41.140625 7.25 \nQ 44.96875 8.296875 48.78125 10.40625 \nL 48.78125 2.09375 \nQ 45.015625 0.34375 40.984375 -0.53125 \nQ 36.96875 -1.421875 32.421875 -1.421875 \nQ 20.0625 -1.421875 12.78125 6.34375 \nQ 5.515625 14.109375 5.515625 27.296875 \nQ 5.515625 40.671875 12.859375 48.328125 \nQ 20.21875 56 33.015625 56 \nQ 37.15625 56 41.109375 55.140625 \nQ 45.0625 54.296875 48.78125 52.59375 \nz\n\" id=\"DejaVuSans-99\"/>\n    </defs>\n    <g transform=\"translate(97.473114 18.14175)scale(0.144 -0.144)\">\n     <use xlink:href=\"#DejaVuSans-87\"/>\n     <use x=\"93.001953\" xlink:href=\"#DejaVuSans-111\"/>\n     <use x=\"154.183594\" xlink:href=\"#DejaVuSans-114\"/>\n     <use x=\"193.546875\" xlink:href=\"#DejaVuSans-100\"/>\n     <use x=\"257.023438\" xlink:href=\"#DejaVuSans-115\"/>\n     <use x=\"309.123047\" xlink:href=\"#DejaVuSans-32\"/>\n     <use x=\"340.910156\" xlink:href=\"#DejaVuSans-105\"/>\n     <use x=\"368.693359\" xlink:href=\"#DejaVuSans-110\"/>\n     <use x=\"432.072266\" xlink:href=\"#DejaVuSans-32\"/>\n     <use x=\"463.859375\" xlink:href=\"#DejaVuSans-83\"/>\n     <use x=\"527.335938\" xlink:href=\"#DejaVuSans-117\"/>\n     <use x=\"590.714844\" xlink:href=\"#DejaVuSans-99\"/>\n     <use x=\"645.695312\" xlink:href=\"#DejaVuSans-99\"/>\n     <use x=\"700.675781\" xlink:href=\"#DejaVuSans-101\"/>\n     <use x=\"762.199219\" xlink:href=\"#DejaVuSans-115\"/>\n     <use x=\"814.298828\" xlink:href=\"#DejaVuSans-115\"/>\n    </g>\n   </g>\n  </g>\n  <g id=\"axes_2\">\n   <g id=\"patch_10\">\n    <path d=\"M 319.644148 187.22175 \nL 547.916875 187.22175 \nL 547.916875 24.14175 \nL 319.644148 24.14175 \nz\n\" style=\"fill:#e5e5e5;\"/>\n   </g>\n   <g id=\"matplotlib.axis_3\">\n    <g id=\"xtick_4\">\n     <g id=\"line2d_21\">\n      <path clip-path=\"url(#pdcd10d094d)\" d=\"M 359.66599 187.22175 \nL 359.66599 24.14175 \n\" style=\"fill:none;stroke:#ffffff;stroke-linecap:square;stroke-width:0.8;\"/>\n     </g>\n     <g id=\"line2d_22\">\n      <g>\n       <use style=\"fill:#555555;stroke:#555555;stroke-width:0.8;\" x=\"359.66599\" xlink:href=\"#m36515edda9\" y=\"187.22175\"/>\n      </g>\n     </g>\n     <g id=\"text_13\">\n      <!-- food -->\n      <g style=\"fill:#555555;\" transform=\"translate(348.612865 201.820188)scale(0.1 -0.1)\">\n       <use xlink:href=\"#DejaVuSans-102\"/>\n       <use x=\"35.205078\" xlink:href=\"#DejaVuSans-111\"/>\n       <use x=\"96.386719\" xlink:href=\"#DejaVuSans-111\"/>\n       <use x=\"157.568359\" xlink:href=\"#DejaVuSans-100\"/>\n      </g>\n     </g>\n    </g>\n    <g id=\"xtick_5\">\n     <g id=\"line2d_23\">\n      <path clip-path=\"url(#pdcd10d094d)\" d=\"M 433.780511 187.22175 \nL 433.780511 24.14175 \n\" style=\"fill:none;stroke:#ffffff;stroke-linecap:square;stroke-width:0.8;\"/>\n     </g>\n     <g id=\"line2d_24\">\n      <g>\n       <use style=\"fill:#555555;stroke:#555555;stroke-width:0.8;\" x=\"433.780511\" xlink:href=\"#m36515edda9\" y=\"187.22175\"/>\n      </g>\n     </g>\n     <g id=\"text_14\">\n      <!-- taste -->\n      <g style=\"fill:#555555;\" transform=\"translate(421.114886 201.820188)scale(0.1 -0.1)\">\n       <use xlink:href=\"#DejaVuSans-116\"/>\n       <use x=\"39.208984\" xlink:href=\"#DejaVuSans-97\"/>\n       <use x=\"100.488281\" xlink:href=\"#DejaVuSans-115\"/>\n       <use x=\"152.587891\" xlink:href=\"#DejaVuSans-116\"/>\n       <use x=\"191.796875\" xlink:href=\"#DejaVuSans-101\"/>\n      </g>\n     </g>\n    </g>\n    <g id=\"xtick_6\">\n     <g id=\"line2d_25\">\n      <path clip-path=\"url(#pdcd10d094d)\" d=\"M 507.895033 187.22175 \nL 507.895033 24.14175 \n\" style=\"fill:none;stroke:#ffffff;stroke-linecap:square;stroke-width:0.8;\"/>\n     </g>\n     <g id=\"line2d_26\">\n      <g>\n       <use style=\"fill:#555555;stroke:#555555;stroke-width:0.8;\" x=\"507.895033\" xlink:href=\"#m36515edda9\" y=\"187.22175\"/>\n      </g>\n     </g>\n     <g id=\"text_15\">\n      <!-- good -->\n      <g style=\"fill:#555555;\" transform=\"translate(495.427846 201.820188)scale(0.1 -0.1)\">\n       <use xlink:href=\"#DejaVuSans-103\"/>\n       <use x=\"63.476562\" xlink:href=\"#DejaVuSans-111\"/>\n       <use x=\"124.658203\" xlink:href=\"#DejaVuSans-111\"/>\n       <use x=\"185.839844\" xlink:href=\"#DejaVuSans-100\"/>\n      </g>\n     </g>\n    </g>\n   </g>\n   <g id=\"matplotlib.axis_4\">\n    <g id=\"ytick_8\">\n     <g id=\"line2d_27\">\n      <path clip-path=\"url(#pdcd10d094d)\" d=\"M 319.644148 187.22175 \nL 547.916875 187.22175 \n\" style=\"fill:none;stroke:#ffffff;stroke-linecap:square;stroke-width:0.8;\"/>\n     </g>\n     <g id=\"line2d_28\">\n      <g>\n       <use style=\"fill:#555555;stroke:#555555;stroke-width:0.8;\" x=\"319.644148\" xlink:href=\"#m1f1d5da146\" y=\"187.22175\"/>\n      </g>\n     </g>\n    </g>\n    <g id=\"ytick_9\">\n     <g id=\"line2d_29\">\n      <path clip-path=\"url(#pdcd10d094d)\" d=\"M 319.644148 161.336036 \nL 547.916875 161.336036 \n\" style=\"fill:none;stroke:#ffffff;stroke-linecap:square;stroke-width:0.8;\"/>\n     </g>\n     <g id=\"line2d_30\">\n      <g>\n       <use style=\"fill:#555555;stroke:#555555;stroke-width:0.8;\" x=\"319.644148\" xlink:href=\"#m1f1d5da146\" y=\"161.336036\"/>\n      </g>\n     </g>\n    </g>\n    <g id=\"ytick_10\">\n     <g id=\"line2d_31\">\n      <path clip-path=\"url(#pdcd10d094d)\" d=\"M 319.644148 135.450321 \nL 547.916875 135.450321 \n\" style=\"fill:none;stroke:#ffffff;stroke-linecap:square;stroke-width:0.8;\"/>\n     </g>\n     <g id=\"line2d_32\">\n      <g>\n       <use style=\"fill:#555555;stroke:#555555;stroke-width:0.8;\" x=\"319.644148\" xlink:href=\"#m1f1d5da146\" y=\"135.450321\"/>\n      </g>\n     </g>\n    </g>\n    <g id=\"ytick_11\">\n     <g id=\"line2d_33\">\n      <path clip-path=\"url(#pdcd10d094d)\" d=\"M 319.644148 109.564607 \nL 547.916875 109.564607 \n\" style=\"fill:none;stroke:#ffffff;stroke-linecap:square;stroke-width:0.8;\"/>\n     </g>\n     <g id=\"line2d_34\">\n      <g>\n       <use style=\"fill:#555555;stroke:#555555;stroke-width:0.8;\" x=\"319.644148\" xlink:href=\"#m1f1d5da146\" y=\"109.564607\"/>\n      </g>\n     </g>\n    </g>\n    <g id=\"ytick_12\">\n     <g id=\"line2d_35\">\n      <path clip-path=\"url(#pdcd10d094d)\" d=\"M 319.644148 83.678893 \nL 547.916875 83.678893 \n\" style=\"fill:none;stroke:#ffffff;stroke-linecap:square;stroke-width:0.8;\"/>\n     </g>\n     <g id=\"line2d_36\">\n      <g>\n       <use style=\"fill:#555555;stroke:#555555;stroke-width:0.8;\" x=\"319.644148\" xlink:href=\"#m1f1d5da146\" y=\"83.678893\"/>\n      </g>\n     </g>\n    </g>\n    <g id=\"ytick_13\">\n     <g id=\"line2d_37\">\n      <path clip-path=\"url(#pdcd10d094d)\" d=\"M 319.644148 57.793179 \nL 547.916875 57.793179 \n\" style=\"fill:none;stroke:#ffffff;stroke-linecap:square;stroke-width:0.8;\"/>\n     </g>\n     <g id=\"line2d_38\">\n      <g>\n       <use style=\"fill:#555555;stroke:#555555;stroke-width:0.8;\" x=\"319.644148\" xlink:href=\"#m1f1d5da146\" y=\"57.793179\"/>\n      </g>\n     </g>\n    </g>\n    <g id=\"ytick_14\">\n     <g id=\"line2d_39\">\n      <path clip-path=\"url(#pdcd10d094d)\" d=\"M 319.644148 31.907464 \nL 547.916875 31.907464 \n\" style=\"fill:none;stroke:#ffffff;stroke-linecap:square;stroke-width:0.8;\"/>\n     </g>\n     <g id=\"line2d_40\">\n      <g>\n       <use style=\"fill:#555555;stroke:#555555;stroke-width:0.8;\" x=\"319.644148\" xlink:href=\"#m1f1d5da146\" y=\"31.907464\"/>\n      </g>\n     </g>\n    </g>\n    <g id=\"text_16\">\n     <!-- freq -->\n     <g style=\"fill:#555555;\" transform=\"translate(313.148523 117.626437)rotate(-90)scale(0.12 -0.12)\">\n      <use xlink:href=\"#DejaVuSans-102\"/>\n      <use x=\"35.205078\" xlink:href=\"#DejaVuSans-114\"/>\n      <use x=\"74.068359\" xlink:href=\"#DejaVuSans-101\"/>\n      <use x=\"135.591797\" xlink:href=\"#DejaVuSans-113\"/>\n     </g>\n    </g>\n   </g>\n   <g id=\"patch_11\">\n    <path clip-path=\"url(#pdcd10d094d)\" d=\"M 330.020181 187.22175 \nL 389.311798 187.22175 \nL 389.311798 135.450321 \nL 330.020181 135.450321 \nz\n\" style=\"fill:#dc143c;\"/>\n   </g>\n   <g id=\"patch_12\">\n    <path clip-path=\"url(#pdcd10d094d)\" d=\"M 404.134703 187.22175 \nL 463.42632 187.22175 \nL 463.42632 135.450321 \nL 404.134703 135.450321 \nz\n\" style=\"fill:#dc143c;\"/>\n   </g>\n   <g id=\"patch_13\">\n    <path clip-path=\"url(#pdcd10d094d)\" d=\"M 478.249224 187.22175 \nL 537.540842 187.22175 \nL 537.540842 135.450321 \nL 478.249224 135.450321 \nz\n\" style=\"fill:#dc143c;\"/>\n   </g>\n   <g id=\"patch_14\">\n    <path d=\"M 319.644148 187.22175 \nL 319.644148 24.14175 \n\" style=\"fill:none;stroke:#ffffff;stroke-linecap:square;stroke-linejoin:miter;\"/>\n   </g>\n   <g id=\"patch_15\">\n    <path d=\"M 547.916875 187.22175 \nL 547.916875 24.14175 \n\" style=\"fill:none;stroke:#ffffff;stroke-linecap:square;stroke-linejoin:miter;\"/>\n   </g>\n   <g id=\"patch_16\">\n    <path d=\"M 319.644148 187.22175 \nL 547.916875 187.22175 \n\" style=\"fill:none;stroke:#ffffff;stroke-linecap:square;stroke-linejoin:miter;\"/>\n   </g>\n   <g id=\"patch_17\">\n    <path d=\"M 319.644148 24.14175 \nL 547.916875 24.14175 \n\" style=\"fill:none;stroke:#ffffff;stroke-linecap:square;stroke-linejoin:miter;\"/>\n   </g>\n   <g id=\"text_17\">\n    <!-- Words in Failure -->\n    <defs>\n     <path d=\"M 9.8125 72.90625 \nL 51.703125 72.90625 \nL 51.703125 64.59375 \nL 19.671875 64.59375 \nL 19.671875 43.109375 \nL 48.578125 43.109375 \nL 48.578125 34.8125 \nL 19.671875 34.8125 \nL 19.671875 0 \nL 9.8125 0 \nz\n\" id=\"DejaVuSans-70\"/>\n     <path d=\"M 9.421875 75.984375 \nL 18.40625 75.984375 \nL 18.40625 0 \nL 9.421875 0 \nz\n\" id=\"DejaVuSans-108\"/>\n    </defs>\n    <g transform=\"translate(376.695761 18.14175)scale(0.144 -0.144)\">\n     <use xlink:href=\"#DejaVuSans-87\"/>\n     <use x=\"93.001953\" xlink:href=\"#DejaVuSans-111\"/>\n     <use x=\"154.183594\" xlink:href=\"#DejaVuSans-114\"/>\n     <use x=\"193.546875\" xlink:href=\"#DejaVuSans-100\"/>\n     <use x=\"257.023438\" xlink:href=\"#DejaVuSans-115\"/>\n     <use x=\"309.123047\" xlink:href=\"#DejaVuSans-32\"/>\n     <use x=\"340.910156\" xlink:href=\"#DejaVuSans-105\"/>\n     <use x=\"368.693359\" xlink:href=\"#DejaVuSans-110\"/>\n     <use x=\"432.072266\" xlink:href=\"#DejaVuSans-32\"/>\n     <use x=\"463.859375\" xlink:href=\"#DejaVuSans-70\"/>\n     <use x=\"512.253906\" xlink:href=\"#DejaVuSans-97\"/>\n     <use x=\"573.533203\" xlink:href=\"#DejaVuSans-105\"/>\n     <use x=\"601.316406\" xlink:href=\"#DejaVuSans-108\"/>\n     <use x=\"629.099609\" xlink:href=\"#DejaVuSans-117\"/>\n     <use x=\"692.478516\" xlink:href=\"#DejaVuSans-114\"/>\n     <use x=\"731.341797\" xlink:href=\"#DejaVuSans-101\"/>\n    </g>\n   </g>\n  </g>\n </g>\n <defs>\n  <clipPath id=\"p9b8662900d\">\n   <rect height=\"163.08\" width=\"228.272727\" x=\"45.716875\" y=\"24.14175\"/>\n  </clipPath>\n  <clipPath id=\"pdcd10d094d\">\n   <rect height=\"163.08\" width=\"228.272727\" x=\"319.644148\" y=\"24.14175\"/>\n  </clipPath>\n </defs>\n</svg>\n",
      "image/png": "[encoded data removed]"
     },
     "metadata": {}
    }
   ],
   "source": [
    "fig, axs = naive_bayes_classifier.historgram(\"taste\",\"good\", \"food\")"
   ]
  },
  {
   "cell_type": "markdown",
   "metadata": {},
   "source": [
    "Let's take a look at the word $good$\n",
    "\n",
    "Given that we have the word $good$, what is the probability that our review is positive?\n",
    "\n",
    "$P(review = 1 | word = good)$\n",
    "\n",
    "By Baye's rule this is $ {\\Large \\frac{P(word = good | review = 1) P(review = 1)} {P(word = good)} }$\n",
    "\n",
    "### Looking at each term:\n",
    "\n",
    "* $P(word =good | review = 1)$ -> number of times that the word \"good\" was in a training examlpe with label \"1\" divided by the number of times it was in the dataset\n",
    "\n",
    "* $P(review =1 )$ -> number of training examples that were labeled as \"1\" (positive reviews) divided by the total number of reviews\n",
    "\n",
    "* $P(word = good)$ -> number of times that the word \"good\" shows up in our training data relative to all other words\n",
    "\n",
    "Since we are dealing with a binary choice of labels we can rewrite the $P(word = good)$ as \n",
    "\n",
    "${\\large P(word = good) = P(word = good | review = 1)P(review = 1) + P(word = good| review = 0)P(review = 0)}$\n",
    "\n",
    "From the probabilities listed above we can simply get the counts from our bag of word to calculate the probability of seeing a review that is positive given the word good\n"
   ]
  },
  {
   "cell_type": "code",
   "execution_count": 6,
   "metadata": {},
   "outputs": [
    {
     "output_type": "stream",
     "name": "stdout",
     "text": "P(good | 1) = 0.75 P(good | 0) = 0.25 P(0) = 0.33 P(1) = 0.67 P(1 | good ) = 0.86\n"
    }
   ],
   "source": [
    "\n",
    "good_count = naive_bayes_classifier.get_word_count('good') # get how many times the word 'good' shows up \n",
    "good_pos_prob = good_count[1]/ (good_count[1]+ good_count[0]) # P(word = good | review = 1)\n",
    "good_neg_prob =good_count[0]/ (good_count[1]+ good_count[0])# P(word = good | review = 0)\n",
    "\n",
    "positive_count = naive_bayes_classifier.get_count(1) # get how many positive reviews were in the training set\n",
    "negative_count = naive_bayes_classifier.get_count(0) # get how many negative reviews were in the training set\n",
    "\n",
    "positive_probability = positive_count/ (positive_count  + negative_count) # P(review = 1)\n",
    "negative_probability = negative_count/ (positive_count  + negative_count) # P(review = 0)\n",
    "\n",
    "total_good_prob_bayes = good_pos_prob*positive_probability + good_neg_prob*negative_probability\n",
    "\n",
    "total_probability = good_pos_prob * positive_probability/ total_good_prob_bayes # bayes rule\n",
    "\n",
    "\n",
    "print(f\"P(good | 1) = {good_pos_prob:.2f} P(good | 0) = {good_neg_prob:.2f} P(0) = {negative_probability:.2f} P(1) = {positive_probability:.2f} P(1 | good ) = {total_probability:.2f}\")\n",
    "\n",
    "# single_word_probability()"
   ]
  },
  {
   "cell_type": "markdown",
   "metadata": {},
   "source": [
    "From the calculations above we see that the probability that a review is positive given the word \"good\" is about 86%. \n",
    "\n",
    "Our classifier did nothing more than grab count from its bag of words and calculate the probability from Bayes rule and this is exactly how the naiva Bayes classifier we've buil does it as well. \n"
   ]
  },
  {
   "cell_type": "code",
   "execution_count": 5,
   "metadata": {},
   "outputs": [
    {
     "output_type": "stream",
     "name": "stdout",
     "text": "Probability according to naive bayes 0.86\n"
    }
   ],
   "source": [
    "word_good_classifier_prob = naive_bayes_classifier.get_conditional_probability_given_word(\"good\")\n",
    "print(f\"Probability according to naive bayes {word_good_classifier_prob[1]:.2f}\")"
   ]
  },
  {
   "cell_type": "markdown",
   "metadata": {},
   "source": [
    "### Now finding the probability of multiple words\n",
    "\n",
    "We can easily find and label a one word review as either positive or negative but what do we do with our three word sentence review? We want to find the probability that a review is either positive or negative given a set number of words. This can be written as \n",
    "\n",
    "$ {\\large P(review = positive | word_1 = food \\cap word_2 = taste \\cap word_3 = good )} $\n",
    "\n",
    "There are multiple ways of finding this joint probability. One approach is by directly looking for any reviews that have the words $food$, $taste$, $good$, which can lead to a lot of difficulties. Either we have to keep looking through our training every time we want to make a prediction or we have to store every single possible word combination we run across. Even then we are not guaranteed to have seen a review with any arbitrary set of words we want. \n",
    "\n",
    "Instead we can remember the idea of joint independent probabilities. The formula for two events A and B given that A and B are independent from each other is \n",
    "\n",
    "${\\large P(A \\cap B) = P(A)P(B)}$\n",
    "\n",
    "In our case we can rewrite the probability of seeing each specific review as the product of the probabilities of seeing each individual word much like just looking at a one word review.\n",
    "\n",
    "So \n",
    "\n",
    "$ P(review = positive | word_1 = food \\cap word_2 = taste \\cap word_3 = good )  = P(review = positive | word = food)P(review = positive | word = taste)P(review = positive | word = food)$\n",
    "\n",
    "\n",
    "Now this is not entirely true. The fact that a word such as $good$ is in a review may indeed change the probability we see some other words such as $bad$ but in practice this assumption creates results that are very accurate even with small datasets.\n",
    "\n",
    "This means that for Naive Bayes, we follow the following procedure\n",
    "\n",
    "```\n",
    "1. For every word in our review:\n",
    "     a. Look up how many times the word appears for each label in our bag of words\n",
    "     b. Use Baye's rule to calculate the probability shows up for each label (eg : P(word = \"good\" | label  = \"positive review\"))\n",
    "     In our example we find the probability that we see each word in a positive and negative review. \n",
    "\n",
    "2. Take the product of the conditional probabilities of each word and multiply them together to find the probability that a sentence belongs to a specific label\n",
    "```\n",
    "\n",
    "The equation for this process can be written as\n",
    "\n",
    "${\\Large P(label = i | word_1 \\cap word_2 \\cap ... \\cap word_n  ) =} {\\Large  \\frac{ (\\prod_{k = 1}^{n} P(word_k | label = i ) ) \\cdot P(label = i) }{\\sum_{label = i}^{m} ((\\prod_{k = 1}^{n} P(word_k | label = i )  \\cdot P(label = i) )} } $\n",
    "\n",
    "Or the product of the probabilities of each word being in a specific label divided by the total probabilities each word belongs to all the labels"
   ]
  },
  {
   "cell_type": "code",
   "execution_count": 6,
   "metadata": {},
   "outputs": [
    {
     "output_type": "stream",
     "name": "stdout",
     "text": "Our calculated predictions: probability review is positive  0.95 , probability review was negative  0.05\nThe builtin naive bayes prediction: positive:  0.95, negative 0.05, prediction 1\n"
    }
   ],
   "source": [
    "def sentence_prediction():\n",
    "    \"\"\"\n",
    "    Lets find the probability that the review: food taste good is a positive review\n",
    "    \"\"\"\n",
    "\n",
    "    # First find the probabilities each word belongs to the positive-negative labels. This is done by looking inside the bag of words\n",
    "    food_prob = naive_bayes_classifier.get_word_conditional_prob('food') # this gets P(word = food | review = positive) and P(word = food | review = negative)\n",
    "    taste_prob = naive_bayes_classifier.get_word_conditional_prob('taste')\n",
    "    good_prob = naive_bayes_classifier.get_word_conditional_prob('good')\n",
    "    # Now find the total amount of positive and negative reviews we had\n",
    "    total_positive_reviews = naive_bayes_classifier.get_count(1)\n",
    "    total_negative_reviews = naive_bayes_classifier.get_count(0)\n",
    "    positive_review_prob = total_positive_reviews/ (total_positive_reviews + total_negative_reviews)# P(X = 1)\n",
    "    negative_review_prob = total_negative_reviews/ (total_positive_reviews + total_negative_reviews)# P(X = 0)\n",
    "    # Find the probability that each word shows up for each label \n",
    "    prob_word_in_positive_review = good_prob[1] * taste_prob[1] * food_prob[1] * positive_review_prob \n",
    "    prob_word_in_negative_review = good_prob[0] * taste_prob[0] * food_prob[0] * negative_review_prob\n",
    "    # Now bayes rule!\n",
    "    prob_review_positive = prob_word_in_positive_review / (prob_word_in_positive_review + prob_word_in_negative_review)\n",
    "    prob_review_negative = prob_word_in_negative_review/(prob_word_in_negative_review + prob_word_in_positive_review)\n",
    "    # this is the same as the predict function\n",
    "    prediction = naive_bayes_classifier.predict('food taste good')\n",
    "\n",
    "    print(f\"Our calculated predictions: probability review is positive {prob_review_positive : .2f} , probability review was negative {prob_review_negative : .2f}\")\n",
    "    print(f\"The builtin naive bayes prediction: positive: {prediction[1]: .2f}, negative{prediction[0]: .2f}, prediction {prediction['prediction']}\")\n",
    "sentence_prediction()"
   ]
  },
  {
   "cell_type": "markdown",
   "metadata": {},
   "source": [
    "## Step 3: Dealing with never before seen words\n",
    "\n",
    "As is the the current Classifier is very robust but still has one key drawback. To show this, we will look at the following review \n",
    "\n",
    " <center><b>Food was really bad</b></center>"
   ]
  },
  {
   "cell_type": "code",
   "execution_count": 7,
   "metadata": {},
   "outputs": [
    {
     "output_type": "stream",
     "name": "stdout",
     "text": "Our prediction, \npositive:  0.00 \nnegative 0.00, \nprediction 1\n"
    }
   ],
   "source": [
    "def zero_probability():\n",
    "    sentence = \"Food was really bad.\"\n",
    "    prediction = naive_bayes_classifier.predict(sentence)\n",
    "    print(f\"Our prediction, \\npositive: {prediction[1]: .2f} \\nnegative{prediction[0]: .2f}, \\nprediction {prediction['prediction']}\")\n",
    "\n",
    "zero_probability()"
   ]
  },
  {
   "cell_type": "markdown",
   "metadata": {},
   "source": [
    "We predicted 0% chance of this review being either positive or negative!\n",
    "\n",
    "To see why this happens we need to see the bag of words for the naive bayes"
   ]
  },
  {
   "cell_type": "code",
   "execution_count": 8,
   "metadata": {},
   "outputs": [
    {
     "output_type": "execute_result",
     "data": {
      "text/plain": "        good  bad\nreally     1    0\nfood       3    1\nbad        1    2\nwas        0    1",
      "text/html": "<div>\n<style scoped>\n    .dataframe tbody tr th:only-of-type {\n        vertical-align: middle;\n    }\n\n    .dataframe tbody tr th {\n        vertical-align: top;\n    }\n\n    .dataframe thead th {\n        text-align: right;\n    }\n</style>\n<table border=\"1\" class=\"dataframe\">\n  <thead>\n    <tr style=\"text-align: right;\">\n      <th></th>\n      <th>good</th>\n      <th>bad</th>\n    </tr>\n  </thead>\n  <tbody>\n    <tr>\n      <th>really</th>\n      <td>1</td>\n      <td>0</td>\n    </tr>\n    <tr>\n      <th>food</th>\n      <td>3</td>\n      <td>1</td>\n    </tr>\n    <tr>\n      <th>bad</th>\n      <td>1</td>\n      <td>2</td>\n    </tr>\n    <tr>\n      <th>was</th>\n      <td>0</td>\n      <td>1</td>\n    </tr>\n  </tbody>\n</table>\n</div>"
     },
     "metadata": {},
     "execution_count": 8
    }
   ],
   "source": [
    "naive_bayes_classifier.filtered_table(\"food\", 'was', 'really', 'bad')"
   ]
  },
  {
   "cell_type": "markdown",
   "metadata": {},
   "source": [
    "## Restaurant Review Demo\n",
    "\n",
    "Hi! below is a small interactive demo for naive bayes. It shows the histograms for a couple of words and lets you predict from an input sentence!"
   ]
  },
  {
   "cell_type": "code",
   "execution_count": 9,
   "metadata": {},
   "outputs": [
    {
     "output_type": "execute_result",
     "data": {
      "text/plain": "<function interactive_components.interactive_hist(**kwargs)>"
     },
     "metadata": {},
     "execution_count": 9
    }
   ],
   "source": [
    "\n",
    "#Getting interactive components!\n",
    "from interactive_components import set_classifier, interactive_hist\n",
    "interactive_bayes = NaiveBayes()\n",
    "interactive_bayes.train(restaurant_data)\n",
    "set_classifier(interactive_bayes)\n",
    "\n",
    "\n",
    "interact(interactive_hist,\n",
    "good_pos =widgets.IntSlider(min=1, max=20, step=1, value=naive_bayes_classifier.get_word_count('good')[1]),\n",
    "really_pos = widgets.IntSlider(min=1, max=20, step=1, value=naive_bayes_classifier.get_word_count('really')[1]),\n",
    "good_neg= widgets.IntSlider(min=1, max=20, step=1, value=naive_bayes_classifier.get_word_count('good')[0]),\n",
    "sentence = \"Food taste good\"\n",
    ")\n"
   ]
  },
  {
   "cell_type": "markdown",
   "metadata": {},
   "source": [
    "## Real World Example: Naive Bayes to find Spam SMS\n",
    "\n",
    "in this example we are going to train our naive bayes classifier "
   ]
  },
  {
   "cell_type": "markdown",
   "metadata": {},
   "source": [
    "# Acknowledgements\n",
    "\n",
    "All of the information on this notebook is a cumilnation of the information on the following pages and videos \n",
    "\n",
    "[Sci-kit leanrs page on naive bayes](https://scikit-learn.org/stable/modules/naive_bayes.html)\n",
    "\n",
    "[Wikipedia Article on Naive Bayes and Document Classification problem](https://en.wikipedia.org/wiki/Naive_Bayes_classifier#Document_classification)\n",
    "\n",
    "[stat quest live-stream ](https://youtu.be/bTs-QA2oJSE)\n",
    "\n",
    "[video: naive bayes: A friendly approach](https://youtu.be/Q8l0Vip5YUw)\n",
    "\n",
    "The datasets were provided by the UCI Machine Learning Repository [link](https://archive.ics.uci.edu/ml/index.php)\n",
    "\n",
    "* [positive-negative reviews dataset (IMBD, Amazon, Yelp)](https://archive.ics.uci.edu/ml/datasets/Sentiment+Labelled+Sentences)\n",
    "\n",
    "* [SMS Spam Dataset](https://archive.ics.uci.edu/ml/datasets/SMS+Spam+Collection)\n",
    "\n"
   ]
  }
 ],
 "metadata": {
  "language_info": {
   "name": "python",
   "codemirror_mode": {
    "name": "ipython",
    "version": 3
   },
   "version": "3.7.5-final"
  },
  "orig_nbformat": 2,
  "file_extension": ".py",
  "mimetype": "text/x-python",
  "name": "python",
  "npconvert_exporter": "python",
  "pygments_lexer": "ipython3",
  "version": 3,
  "kernelspec": {
   "name": "python37564bitprobabilitypipenv45a53a34e6d44099abdc2efb0752d9b8",
   "display_name": "Python 3.7.5 64-bit ('Probability': pipenv)"
  }
 },
 "nbformat": 4,
 "nbformat_minor": 2
}