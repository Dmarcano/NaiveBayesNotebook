{
 "cells": [
  {
   "cell_type": "markdown",
   "metadata": {},
   "source": [
    "## An Introduction to Bayesian Modeling \n",
    "\n",
    "One of the most powerful ideas that comes out of using the Bayesian statistics we've learned in class is the idea of Bayesian inference.\n",
    "One of the best ways to describe what Bayesian inference means is through an example.\n",
    "\n",
    "> You are looking for a place out to eat. After finding a place, you want to make sure that you won't waste your time and money so you go and read the reviews. The first review you reads \"This place has amazing food!\". The next set of reviews also have a similiar tone to them reasurring you that the restaurant might be a good choice after all... \n",
    "\n",
    "This way of thinking is exactly what Bayesian inference is. The idea of simply updating your beliefs after considering new evidence.\n",
    "\n",
    "We can try to leverage this way of thinking to create an algorithm that can use Bayesian inference in a wide variety of problems. One of the more straightforward algorithms is called the Naive Bayes Classifier. Looking at it through the lense of classifying restaurant reviews one can\n"
   ]
  },
  {
   "cell_type": "markdown",
   "metadata": {},
   "source": [
    "## Naive Bayes: A Straightforward Introduction to Bayesian Iference for Machine Learning \n",
    "\n",
    "Naive Bayes is a machine learning algortihm\n",
    "\n",
    "1. Gathering Dataset and Training Naive Bayes\n",
    "2. Testing with basic predictions\n",
    "3. Dealing with never seen words"
   ]
  },
  {
   "cell_type": "markdown",
   "metadata": {},
   "source": [
    "## Step 1: Training The Classifier"
   ]
  },
  {
   "cell_type": "code",
   "execution_count": 1,
   "metadata": {},
   "outputs": [
    {
     "output_type": "execute_result",
     "data": {
      "text/plain": "                text  label\n0    simply loved it      1\n1  this food was bad      0\n2   really good food      1\n3     terrible taste      0\n4     this food good      1\n5        loved taste      1\n6       bad ambiance      0\n7  i loved it so bad      1",
      "text/html": "<div>\n<style scoped>\n    .dataframe tbody tr th:only-of-type {\n        vertical-align: middle;\n    }\n\n    .dataframe tbody tr th {\n        vertical-align: top;\n    }\n\n    .dataframe thead th {\n        text-align: right;\n    }\n</style>\n<table border=\"1\" class=\"dataframe\">\n  <thead>\n    <tr style=\"text-align: right;\">\n      <th></th>\n      <th>text</th>\n      <th>label</th>\n    </tr>\n  </thead>\n  <tbody>\n    <tr>\n      <th>0</th>\n      <td>simply loved it</td>\n      <td>1</td>\n    </tr>\n    <tr>\n      <th>1</th>\n      <td>this food was bad</td>\n      <td>0</td>\n    </tr>\n    <tr>\n      <th>2</th>\n      <td>really good food</td>\n      <td>1</td>\n    </tr>\n    <tr>\n      <th>3</th>\n      <td>terrible taste</td>\n      <td>0</td>\n    </tr>\n    <tr>\n      <th>4</th>\n      <td>this food good</td>\n      <td>1</td>\n    </tr>\n    <tr>\n      <th>5</th>\n      <td>loved taste</td>\n      <td>1</td>\n    </tr>\n    <tr>\n      <th>6</th>\n      <td>bad ambiance</td>\n      <td>0</td>\n    </tr>\n    <tr>\n      <th>7</th>\n      <td>i loved it so bad</td>\n      <td>1</td>\n    </tr>\n  </tbody>\n</table>\n</div>"
     },
     "metadata": {},
     "execution_count": 1
    }
   ],
   "source": [
    "from matplotlib import pyplot as plt\n",
    "import pandas as pd \n",
    "import numpy as np\n",
    "from ipywidgets import interact, interactive, fixed, interact_manual,interactive_output\n",
    "from IPython.display import display, Markdown\n",
    "import ipywidgets as widgets\n",
    "from naive_bayes import NaiveBayes\n",
    "plt.style.use('ggplot')\n",
    "\n",
    "\n",
    "\"\"\"\n",
    "We are going to make a mock dataset to try to classify restaurant reviews as either positive or negative\n",
    "\"\"\"\n",
    "\n",
    "# this piece of code makes sure the notebook finds the needed files correctly!\n",
    "abspath = os.path.abspath('')\n",
    "os.chdir(abspath)\n",
    "\n",
    "restaurant_data = pd.read_csv(\"restaurant_reviews.csv\")\n",
    "restaurant_data"
   ]
  },
  {
   "cell_type": "code",
   "execution_count": 2,
   "metadata": {},
   "outputs": [
    {
     "output_type": "execute_result",
     "data": {
      "text/plain": "          good  bad\nsimply       1    0\nloved        3    0\nit           2    0\nfood         2    1\nbad          1    2\nthis         1    1\nwas          0    1\nreally       1    0\ngood         2    0\ntaste        1    1\nterrible     0    1\nambiance     0    1\ni            1    0\nso           1    0",
      "text/html": "<div>\n<style scoped>\n    .dataframe tbody tr th:only-of-type {\n        vertical-align: middle;\n    }\n\n    .dataframe tbody tr th {\n        vertical-align: top;\n    }\n\n    .dataframe thead th {\n        text-align: right;\n    }\n</style>\n<table border=\"1\" class=\"dataframe\">\n  <thead>\n    <tr style=\"text-align: right;\">\n      <th></th>\n      <th>good</th>\n      <th>bad</th>\n    </tr>\n  </thead>\n  <tbody>\n    <tr>\n      <th>simply</th>\n      <td>1</td>\n      <td>0</td>\n    </tr>\n    <tr>\n      <th>loved</th>\n      <td>3</td>\n      <td>0</td>\n    </tr>\n    <tr>\n      <th>it</th>\n      <td>2</td>\n      <td>0</td>\n    </tr>\n    <tr>\n      <th>food</th>\n      <td>2</td>\n      <td>1</td>\n    </tr>\n    <tr>\n      <th>bad</th>\n      <td>1</td>\n      <td>2</td>\n    </tr>\n    <tr>\n      <th>this</th>\n      <td>1</td>\n      <td>1</td>\n    </tr>\n    <tr>\n      <th>was</th>\n      <td>0</td>\n      <td>1</td>\n    </tr>\n    <tr>\n      <th>really</th>\n      <td>1</td>\n      <td>0</td>\n    </tr>\n    <tr>\n      <th>good</th>\n      <td>2</td>\n      <td>0</td>\n    </tr>\n    <tr>\n      <th>taste</th>\n      <td>1</td>\n      <td>1</td>\n    </tr>\n    <tr>\n      <th>terrible</th>\n      <td>0</td>\n      <td>1</td>\n    </tr>\n    <tr>\n      <th>ambiance</th>\n      <td>0</td>\n      <td>1</td>\n    </tr>\n    <tr>\n      <th>i</th>\n      <td>1</td>\n      <td>0</td>\n    </tr>\n    <tr>\n      <th>so</th>\n      <td>1</td>\n      <td>0</td>\n    </tr>\n  </tbody>\n</table>\n</div>"
     },
     "metadata": {},
     "execution_count": 2
    }
   ],
   "source": [
    "naive_bayes_classifier = NaiveBayes()\n",
    "naive_bayes_classifier.train(restaurant_data)\n",
    "\n",
    "naive_bayes_classifier.table()"
   ]
  },
  {
   "cell_type": "markdown",
   "metadata": {},
   "source": [
    "From the table above we can see that our Naive Bayes now has a bag of words for labels 0 and 1. \n",
    "\n",
    "We simply counted how many times a specific label"
   ]
  },
  {
   "cell_type": "markdown",
   "metadata": {},
   "source": [
    "## Step 2: Calculating Basic Predictions\n",
    "\n",
    "Now the Naive-Bayes classifier has been trained. It contains a bag of words that we can use to begin classifying \n",
    "sentences into either:\n",
    "\n",
    " **positive (1)** or **negative (0)** reviews"
   ]
  },
  {
   "cell_type": "code",
   "execution_count": 3,
   "metadata": {},
   "outputs": [
    {
     "output_type": "display_data",
     "data": {
      "text/plain": "interactive(children=(IntSlider(value=2, description='good_pos', max=20), IntSlider(value=1, description='real…",
      "application/vnd.jupyter.widget-view+json": {
       "version_major": 2,
       "version_minor": 0,
       "model_id": "c43303acebd34fa58117a2d919a6b4f0"
      }
     },
     "metadata": {}
    }
   ],
   "source": [
    "# Getting interactive components!\n",
    "from interactive_components import set_classifier, interactive_hist\n",
    "set_classifier(naive_bayes_classifier)\n",
    "\n",
    "\n",
    "interact(interactive_hist,\n",
    "good_pos =widgets.IntSlider(min=0, max=20, step=1, value=naive_bayes_classifier.get_word_count('good')[1]),\n",
    "really_pos = widgets.IntSlider(min=0, max=20, step=1, value=naive_bayes_classifier.get_word_count('really')[1]),\n",
    "good_neg= widgets.IntSlider(min=0, max=20, step=1, value=naive_bayes_classifier.get_word_count('good')[0])\n",
    ");\n"
   ]
  },
  {
   "cell_type": "markdown",
   "metadata": {},
   "source": [
    "## Step 3: Dealing with never before seen words\n"
   ]
  },
  {
   "cell_type": "code",
   "execution_count": null,
   "metadata": {},
   "outputs": [],
   "source": [
    "naive_bayes_classifier.train(restaurant_data)"
   ]
  }
 ],
 "metadata": {
  "language_info": {
   "name": "python",
   "codemirror_mode": {
    "name": "ipython",
    "version": 3
   },
   "version": "3.7.5-final"
  },
  "orig_nbformat": 2,
  "file_extension": ".py",
  "mimetype": "text/x-python",
  "name": "python",
  "npconvert_exporter": "python",
  "pygments_lexer": "ipython3",
  "version": 3,
  "kernelspec": {
   "name": "python37564bitprobabilitypipenv45a53a34e6d44099abdc2efb0752d9b8",
   "display_name": "Python 3.7.5 64-bit ('Probability': pipenv)"
  }
 },
 "nbformat": 4,
 "nbformat_minor": 2
}